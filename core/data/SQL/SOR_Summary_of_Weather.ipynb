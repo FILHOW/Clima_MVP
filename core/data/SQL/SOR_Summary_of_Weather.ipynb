CREATE TABLE IF NOT EXISTS sor_summary_of_weather (
    id INTEGER, NOT NULL
    Date DATE, NOT NULL
    MaxTemp REAL, NOT NULL
    MinTemp REAL, NOT NULL
    MeanTemp REAL, NOT NULL
    YR INTEGER NOT NULL
);
