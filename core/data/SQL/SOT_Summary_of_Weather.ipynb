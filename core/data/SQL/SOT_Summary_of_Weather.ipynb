CREATE TABLE IF NOT EXISTS sot_summary_of_weather (
    numero_id INTEGER PRIMARY KEY NOT NULL,
    valor_data DATE NOT NULL,
    numero_tempMaxima REAL NOT NULL,
    numero_tempMinima REAL NOT NULL,
    numero_tempMedia REAL NOT NULL,
    numero_ano INTEGER NOT NULL
);
