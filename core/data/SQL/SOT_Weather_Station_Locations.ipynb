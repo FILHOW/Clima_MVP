{
 "cells": [
  {
   "cell_type": "code",
   "execution_count": 1,
   "id": "7fbf43d5-3da3-4545-919a-a7d0d4521415",
   "metadata": {},
   "outputs": [],
   "source": [
    "import mysql.connector\n",
    "\n",
    "# Conexão com o banco\n",
    "conn = mysql.connector.connect(\n",
    "    host=\"localhost\",        # ou IP do servidor MySQL\n",
    "    user=\"root\",\n",
    "    password=\"filho123\",\n",
    "    database=\"Clima_Diario_BD\",  # pode criar um banco antes\n",
    "    port =3305\n",
    ")\n",
    "\n",
    "cursor = conn.cursor()\n",
    "\n",
    "sql = \"\"\"\n",
    "CREATE TABLE IF NOT EXISTS SOT_Weather_Station_Locations (\n",
    "    numero_idEstaçãoMet int PRIMARY KEY NOT NULL,\n",
    "    nome_estacao varchar(30) NOT NULL,\n",
    "    numero_elevacao int NOT NULL,\n",
    "    nome_elevacao varchar(5) NOT NULL,\n",
    "    numero_latitude FLOAT NOT NULL,\n",
    "    numero_longitude FLOAT NOT NULL\n",
    ")\n",
    "\"\"\"\n",
    "cursor.execute(sql)\n",
    "conn.commit()"
   ]
  },
  {
   "cell_type": "code",
   "execution_count": 2,
   "id": "e06398b0-130f-4548-9500-3e8688a56ecf",
   "metadata": {},
   "outputs": [],
   "source": []
  },
  {
   "cell_type": "code",
   "execution_count": null,
   "id": "1183cb1b-0632-409f-8ff3-807efe9dc71c",
   "metadata": {},
   "outputs": [],
   "source": []
  }
 ],
 "metadata": {
  "kernelspec": {
   "display_name": "Python 3 (ipykernel)",
   "language": "python",
   "name": "python3"
  },
  "language_info": {
   "codemirror_mode": {
    "name": "ipython",
    "version": 3
   },
   "file_extension": ".py",
   "mimetype": "text/x-python",
   "name": "python",
   "nbconvert_exporter": "python",
   "pygments_lexer": "ipython3",
   "version": "3.13.5"
  }
 },
 "nbformat": 4,
 "nbformat_minor": 5
}
